{
  "nbformat": 4,
  "nbformat_minor": 0,
  "metadata": {
    "colab": {
      "name": "TextClassification.ipynb",
      "provenance": [],
      "collapsed_sections": []
    },
    "kernelspec": {
      "name": "python3",
      "display_name": "Python 3"
    },
    "language_info": {
      "name": "python"
    }
  },
  "cells": [
    {
      "cell_type": "code",
      "metadata": {
        "id": "JTHFciuA7JuP"
      },
      "source": [
        "import numpy as np \n",
        "import pandas as pd \n",
        "\n",
        "import os"
      ],
      "execution_count": 1,
      "outputs": []
    },
    {
      "cell_type": "code",
      "metadata": {
        "id": "wPW13qSB8xuD"
      },
      "source": [
        "from IPython.display import display\n",
        "from tqdm import tqdm\n",
        "from collections import Counter\n",
        "import ast\n",
        "\n",
        "#Libraries for NLP\n",
        "import nltk\n",
        "\n",
        "import matplotlib.pyplot as plt\n",
        "import matplotlib.mlab as mlab\n",
        "import seaborn as sns\n",
        "\n",
        "from sklearn.feature_extraction.text import CountVectorizer\n",
        "from textblob import TextBlob\n",
        "import scipy.stats as stats\n",
        "\n",
        "from sklearn.decomposition import TruncatedSVD\n",
        "from sklearn.decomposition import LatentDirichletAllocation\n",
        "from sklearn.manifold import TSNE\n",
        "\n",
        "from bokeh.plotting import figure, output_file, show\n",
        "from bokeh.models import Label\n",
        "from bokeh.io import output_notebook\n",
        "output_notebook()\n",
        "\n",
        "%matplotlib inline"
      ],
      "execution_count": 2,
      "outputs": []
    },
    {
      "cell_type": "code",
      "metadata": {
        "id": "Bi1m1y6o8BWO"
      },
      "source": [
        "trainSetdf= pd.read_csv('/content/drive/MyDrive/information retrieval/train.csv')\n"
      ],
      "execution_count": 3,
      "outputs": []
    },
    {
      "cell_type": "code",
      "metadata": {
        "id": "KoIJeRQ49Tx8",
        "colab": {
          "base_uri": "https://localhost:8080/",
          "height": 795
        },
        "outputId": "21d4e822-9ea2-4ab5-b7a8-1d4e1d261d89"
      },
      "source": [
        "trainSetdf.head(15)"
      ],
      "execution_count": 4,
      "outputs": [
        {
          "output_type": "execute_result",
          "data": {
            "text/html": [
              "<div>\n",
              "<style scoped>\n",
              "    .dataframe tbody tr th:only-of-type {\n",
              "        vertical-align: middle;\n",
              "    }\n",
              "\n",
              "    .dataframe tbody tr th {\n",
              "        vertical-align: top;\n",
              "    }\n",
              "\n",
              "    .dataframe thead th {\n",
              "        text-align: right;\n",
              "    }\n",
              "</style>\n",
              "<table border=\"1\" class=\"dataframe\">\n",
              "  <thead>\n",
              "    <tr style=\"text-align: right;\">\n",
              "      <th></th>\n",
              "      <th>ID</th>\n",
              "      <th>TITLE</th>\n",
              "      <th>ABSTRACT</th>\n",
              "      <th>Computer Science</th>\n",
              "      <th>Physics</th>\n",
              "      <th>Mathematics</th>\n",
              "      <th>Statistics</th>\n",
              "      <th>Quantitative Biology</th>\n",
              "      <th>Quantitative Finance</th>\n",
              "    </tr>\n",
              "  </thead>\n",
              "  <tbody>\n",
              "    <tr>\n",
              "      <th>0</th>\n",
              "      <td>1</td>\n",
              "      <td>Reconstructing Subject-Specific Effect Maps</td>\n",
              "      <td>Predictive models allow subject-specific inf...</td>\n",
              "      <td>1</td>\n",
              "      <td>0</td>\n",
              "      <td>0</td>\n",
              "      <td>0</td>\n",
              "      <td>0</td>\n",
              "      <td>0</td>\n",
              "    </tr>\n",
              "    <tr>\n",
              "      <th>1</th>\n",
              "      <td>2</td>\n",
              "      <td>Rotation Invariance Neural Network</td>\n",
              "      <td>Rotation invariance and translation invarian...</td>\n",
              "      <td>1</td>\n",
              "      <td>0</td>\n",
              "      <td>0</td>\n",
              "      <td>0</td>\n",
              "      <td>0</td>\n",
              "      <td>0</td>\n",
              "    </tr>\n",
              "    <tr>\n",
              "      <th>2</th>\n",
              "      <td>3</td>\n",
              "      <td>Spherical polyharmonics and Poisson kernels fo...</td>\n",
              "      <td>We introduce and develop the notion of spher...</td>\n",
              "      <td>0</td>\n",
              "      <td>0</td>\n",
              "      <td>1</td>\n",
              "      <td>0</td>\n",
              "      <td>0</td>\n",
              "      <td>0</td>\n",
              "    </tr>\n",
              "    <tr>\n",
              "      <th>3</th>\n",
              "      <td>4</td>\n",
              "      <td>A finite element approximation for the stochas...</td>\n",
              "      <td>The stochastic Landau--Lifshitz--Gilbert (LL...</td>\n",
              "      <td>0</td>\n",
              "      <td>0</td>\n",
              "      <td>1</td>\n",
              "      <td>0</td>\n",
              "      <td>0</td>\n",
              "      <td>0</td>\n",
              "    </tr>\n",
              "    <tr>\n",
              "      <th>4</th>\n",
              "      <td>5</td>\n",
              "      <td>Comparative study of Discrete Wavelet Transfor...</td>\n",
              "      <td>Fourier-transform infra-red (FTIR) spectra o...</td>\n",
              "      <td>1</td>\n",
              "      <td>0</td>\n",
              "      <td>0</td>\n",
              "      <td>1</td>\n",
              "      <td>0</td>\n",
              "      <td>0</td>\n",
              "    </tr>\n",
              "    <tr>\n",
              "      <th>5</th>\n",
              "      <td>6</td>\n",
              "      <td>On maximizing the fundamental frequency of the...</td>\n",
              "      <td>Let $\\Omega \\subset \\mathbb{R}^n$ be a bound...</td>\n",
              "      <td>0</td>\n",
              "      <td>0</td>\n",
              "      <td>1</td>\n",
              "      <td>0</td>\n",
              "      <td>0</td>\n",
              "      <td>0</td>\n",
              "    </tr>\n",
              "    <tr>\n",
              "      <th>6</th>\n",
              "      <td>7</td>\n",
              "      <td>On the rotation period and shape of the hyperb...</td>\n",
              "      <td>We observed the newly discovered hyperbolic ...</td>\n",
              "      <td>0</td>\n",
              "      <td>1</td>\n",
              "      <td>0</td>\n",
              "      <td>0</td>\n",
              "      <td>0</td>\n",
              "      <td>0</td>\n",
              "    </tr>\n",
              "    <tr>\n",
              "      <th>7</th>\n",
              "      <td>8</td>\n",
              "      <td>Adverse effects of polymer coating on heat tra...</td>\n",
              "      <td>The ability of metallic nanoparticles to sup...</td>\n",
              "      <td>0</td>\n",
              "      <td>1</td>\n",
              "      <td>0</td>\n",
              "      <td>0</td>\n",
              "      <td>0</td>\n",
              "      <td>0</td>\n",
              "    </tr>\n",
              "    <tr>\n",
              "      <th>8</th>\n",
              "      <td>9</td>\n",
              "      <td>SPH calculations of Mars-scale collisions: the...</td>\n",
              "      <td>We model large-scale ($\\approx$2000km) impac...</td>\n",
              "      <td>0</td>\n",
              "      <td>1</td>\n",
              "      <td>0</td>\n",
              "      <td>0</td>\n",
              "      <td>0</td>\n",
              "      <td>0</td>\n",
              "    </tr>\n",
              "    <tr>\n",
              "      <th>9</th>\n",
              "      <td>10</td>\n",
              "      <td>$\\mathcal{R}_{0}$ fails to predict the outbrea...</td>\n",
              "      <td>Time varying susceptibility of host at indiv...</td>\n",
              "      <td>0</td>\n",
              "      <td>0</td>\n",
              "      <td>0</td>\n",
              "      <td>0</td>\n",
              "      <td>1</td>\n",
              "      <td>0</td>\n",
              "    </tr>\n",
              "    <tr>\n",
              "      <th>10</th>\n",
              "      <td>11</td>\n",
              "      <td>A global sensitivity analysis and reduced orde...</td>\n",
              "      <td>We present a systematic global sensitivity a...</td>\n",
              "      <td>1</td>\n",
              "      <td>0</td>\n",
              "      <td>0</td>\n",
              "      <td>0</td>\n",
              "      <td>0</td>\n",
              "      <td>0</td>\n",
              "    </tr>\n",
              "    <tr>\n",
              "      <th>11</th>\n",
              "      <td>12</td>\n",
              "      <td>Role-separating ordering in social dilemmas co...</td>\n",
              "      <td>\"Three is a crowd\" is an old proverb that ap...</td>\n",
              "      <td>0</td>\n",
              "      <td>1</td>\n",
              "      <td>0</td>\n",
              "      <td>0</td>\n",
              "      <td>0</td>\n",
              "      <td>0</td>\n",
              "    </tr>\n",
              "    <tr>\n",
              "      <th>12</th>\n",
              "      <td>13</td>\n",
              "      <td>Dynamics of exciton magnetic polarons in CdMnS...</td>\n",
              "      <td>We study the exciton magnetic polaron (EMP) ...</td>\n",
              "      <td>0</td>\n",
              "      <td>1</td>\n",
              "      <td>0</td>\n",
              "      <td>0</td>\n",
              "      <td>0</td>\n",
              "      <td>0</td>\n",
              "    </tr>\n",
              "    <tr>\n",
              "      <th>13</th>\n",
              "      <td>14</td>\n",
              "      <td>On Varieties of Ordered Automata</td>\n",
              "      <td>The classical Eilenberg correspondence, base...</td>\n",
              "      <td>1</td>\n",
              "      <td>0</td>\n",
              "      <td>0</td>\n",
              "      <td>0</td>\n",
              "      <td>0</td>\n",
              "      <td>0</td>\n",
              "    </tr>\n",
              "    <tr>\n",
              "      <th>14</th>\n",
              "      <td>15</td>\n",
              "      <td>Direct Evidence of Spontaneous Abrikosov Vorte...</td>\n",
              "      <td>Using low-temperature Magnetic Force Microsc...</td>\n",
              "      <td>0</td>\n",
              "      <td>1</td>\n",
              "      <td>0</td>\n",
              "      <td>0</td>\n",
              "      <td>0</td>\n",
              "      <td>0</td>\n",
              "    </tr>\n",
              "  </tbody>\n",
              "</table>\n",
              "</div>"
            ],
            "text/plain": [
              "    ID  ... Quantitative Finance\n",
              "0    1  ...                    0\n",
              "1    2  ...                    0\n",
              "2    3  ...                    0\n",
              "3    4  ...                    0\n",
              "4    5  ...                    0\n",
              "5    6  ...                    0\n",
              "6    7  ...                    0\n",
              "7    8  ...                    0\n",
              "8    9  ...                    0\n",
              "9   10  ...                    0\n",
              "10  11  ...                    0\n",
              "11  12  ...                    0\n",
              "12  13  ...                    0\n",
              "13  14  ...                    0\n",
              "14  15  ...                    0\n",
              "\n",
              "[15 rows x 9 columns]"
            ]
          },
          "metadata": {
            "tags": []
          },
          "execution_count": 4
        }
      ]
    },
    {
      "cell_type": "code",
      "metadata": {
        "id": "i6BkssGu9WgK"
      },
      "source": [
        "#gathering abstracts from train data\n",
        "\n",
        "train = trainSetdf[\"ABSTRACT\"]"
      ],
      "execution_count": 5,
      "outputs": []
    },
    {
      "cell_type": "code",
      "metadata": {
        "id": "B3FERwgY9ps_"
      },
      "source": [
        "def gatherTopnWords(topNwords, count_vectorizer, textData):\n",
        "    '''\n",
        "    returns a tuple of the top n words in a sample and their \n",
        "    accompanying counts, given a CountVectorizer object and text sample\n",
        "    '''\n",
        "    vectorizedHeadlines = count_vectorizer.fit_transform(textData.values)\n",
        "    vectorizedTotal = np.sum(vectorizedHeadlines, axis=0)\n",
        "    wordIndices = np.flip(np.argsort(vectorizedTotal)[0,:], 1)\n",
        "    wordValues = np.flip(np.sort(vectorizedTotal)[0,:],1)\n",
        "    wordVectors = np.zeros((topNwords, vectorizedHeadlines.shape[1]))\n",
        "\n",
        "    for i in range(topNwords):\n",
        "          wordVectors[i,wordIndices[0,i]] = 1\n",
        "\n",
        "    words = [word[0].encode('ascii').decode('utf-8') for \n",
        "              word in count_vectorizer.inverse_transform(wordVectors)]\n",
        "    \n",
        "    return (words, wordValues[0,:topNwords].tolist()[0])\n"
      ],
      "execution_count": 6,
      "outputs": []
    },
    {
      "cell_type": "code",
      "metadata": {
        "id": "9U-yReZA_nJS",
        "colab": {
          "base_uri": "https://localhost:8080/",
          "height": 569
        },
        "outputId": "c097b7a6-a5b9-4192-a6b2-e0c9ff150915"
      },
      "source": [
        "#Removing stop words and developing a list of top words in abstracts\n",
        "cv = CountVectorizer(stop_words='english')\n",
        "words, word_val = gatherTopnWords(topNwords=15, count_vectorizer=cv, textData=train)\n",
        "fig, ax = plt.subplots(figsize=(12, 8))\n",
        "ax.bar(words, word_val)\n",
        "ax.set_xticklabels(words, rotation='vertical');\n",
        "ax.set_title('Top words (excluding stop words)');\n",
        "ax.set_xlabel('Word');\n",
        "ax.set_ylabel('Number of occurences');\n",
        "plt.show()\n",
        "print(range(len(words)))"
      ],
      "execution_count": 7,
      "outputs": [
        {
          "output_type": "display_data",
          "data": {
            "image/png": "[encoded data removed]",
            "text/plain": [
              "<Figure size 864x576 with 1 Axes>"
            ]
          },
          "metadata": {
            "tags": [],
            "needs_background": "light"
          }
        },
        {
          "output_type": "stream",
          "text": [
            "range(0, 15)\n"
          ],
          "name": "stdout"
        }
      ]
    },
    {
      "cell_type": "code",
      "metadata": {
        "id": "T_gj_J1Z_zpu"
      },
      "source": [
        "#Topic Modelling\n",
        "#Preprocessing for LDA\n",
        "\n",
        "#Making a class for both tokenization and lemmatization\n",
        "lemm = nltk.WordNetLemmatizer()\n",
        "class LemmaCountVectorizer(CountVectorizer):\n",
        "    def bAnalyzer(self):\n",
        "        analyzer = super(LemmaCountVectorizer, self).bAnalyzer()\n",
        "        return lambda doc: (lemm.lemmatize(w) for w in analyzer(doc))"
      ],
      "execution_count": 8,
      "outputs": []
    },
    {
      "cell_type": "code",
      "metadata": {
        "id": "rfCfYzQcDVR9"
      },
      "source": [
        "# Storing all training text in a list\n",
        "text = list(train)\n",
        "\n",
        "# Calling the overwritten count vectorizer\n",
        "tf_vectorizer = LemmaCountVectorizer(max_df=0.95, min_df=2, stop_words='english', \n",
        "                                     decode_error='ignore')\n",
        "tf = tf_vectorizer.fit_transform(text)"
      ],
      "execution_count": 9,
      "outputs": []
    },
    {
      "cell_type": "code",
      "metadata": {
        "id": "Dcxdky3dDgTi"
      },
      "source": [
        "#LDA (Sklearn)\n",
        "#number of topics\n",
        "numberOfTopics=10"
      ],
      "execution_count": 10,
      "outputs": []
    },
    {
      "cell_type": "code",
      "metadata": {
        "id": "BUfu-qlaDtxi"
      },
      "source": [
        "#Creating an LDA instance\n",
        "lda = LatentDirichletAllocation(n_components=numberOfTopics, max_iter=5, learning_method='online', \n",
        "                                learning_offset=50., random_state=0, verbose =0)\n",
        "lda.fit(tf)\n",
        "\n",
        "#Making an LDA topic matrix of the corpus\n",
        "ldaTopicMatrix = lda.fit_transform(tf)"
      ],
      "execution_count": 11,
      "outputs": []
    },
    {
      "cell_type": "code",
      "metadata": {
        "id": "q0LnCWkzD8DN"
      },
      "source": [
        "# Define helper functions\n",
        "def gatherKeys(topicMatrix):\n",
        "    '''\n",
        "    returns an integer list of predicted topic \n",
        "    categories for a given topic matrix\n",
        "    '''\n",
        "    keys = topicMatrix.argmax(axis=1).tolist()\n",
        "    return keys\n",
        "\n",
        "def countingKeys(keys):\n",
        "    '''\n",
        "    returns a tuple of topic categories and their \n",
        "    accompanying magnitudes for a given list of keys\n",
        "    '''\n",
        "    count_pairs = Counter(keys).items()\n",
        "    categories = [pair[0] for pair in count_pairs]\n",
        "    counts = [pair[1] for pair in count_pairs]\n",
        "    return (categories, counts)"
      ],
      "execution_count": 12,
      "outputs": []
    },
    {
      "cell_type": "code",
      "metadata": {
        "id": "V9KGaXx5EsDp"
      },
      "source": [
        "# Getting the categories and counts from the lda model\n",
        "ldaKeys = gatherKeys(ldaTopicMatrix)\n",
        "ldaCategories, ldaCounts = countingKeys(ldaKeys)"
      ],
      "execution_count": 13,
      "outputs": []
    },
    {
      "cell_type": "code",
      "metadata": {
        "id": "kihnZg5ZGRm4"
      },
      "source": [
        "# Function to get top words from each category\n",
        "def getTopnWords(n, keys, document_term_matrix, count_vectorizer):\n",
        "    '''\n",
        "    returns a list of numberOfTopics strings, where each string contains the n most common \n",
        "    words in a predicted category, in order\n",
        "    '''\n",
        "    topWordIndices = []\n",
        "    for topic in range(numberOfTopics):\n",
        "        tempVectorSum = 0\n",
        "        for i in range(len(keys)):\n",
        "            if keys[i] == topic:\n",
        "                tempVectorSum += document_term_matrix[i]\n",
        "        tempVectorSum = tempVectorSum.toarray()\n",
        "        topNWordIndices = np.flip(np.argsort(tempVectorSum)[0][-n:],0)\n",
        "        topWordIndices.append(topNWordIndices)   \n",
        "    topEords = []\n",
        "    for topic in topWordIndices:\n",
        "        topicWords = []\n",
        "        for index in topic:\n",
        "            tempWordVector = np.zeros((1,document_term_matrix.shape[1]))\n",
        "            tempWordVector[:,index] = 1\n",
        "            the_word = count_vectorizer.inverse_transform(tempWordVector)[0][0]\n",
        "            topicWords.append(the_word.encode('ascii').decode('utf-8'))\n",
        "        topicWords.append(\" \".join(topicWords))         \n",
        "    return topicWords"
      ],
      "execution_count": 14,
      "outputs": []
    },
    {
      "cell_type": "code",
      "metadata": {
        "id": "CEQSinGXIqBX",
        "colab": {
          "base_uri": "https://localhost:8080/"
        },
        "outputId": "d3fcf944-9ef9-4a43-9ef7-9a41f7a3b411"
      },
      "source": [
        "# Printing words from each topic\n",
        "topNwords = getTopnWords(9, ldaKeys, tf, tf_vectorizer)\n",
        "\n",
        "for i in range(len(topNwords)):\n",
        "    print(\"Topic {}:\\n \".format(i), topNwords[i] + \"\\n\")"
      ],
      "execution_count": 15,
      "outputs": [
        {
          "output_type": "stream",
          "text": [
            "Topic 0:\n",
            "  mathbb\n",
            "\n",
            "Topic 1:\n",
            "  mathcal\n",
            "\n",
            "Topic 2:\n",
            "  frac\n",
            "\n",
            "Topic 3:\n",
            "  let\n",
            "\n",
            "Topic 4:\n",
            "  prove\n",
            "\n",
            "Topic 5:\n",
            "  left\n",
            "\n",
            "Topic 6:\n",
            "  right\n",
            "\n",
            "Topic 7:\n",
            "  omega\n",
            "\n",
            "Topic 8:\n",
            "  alpha\n",
            "\n",
            "Topic 9:\n",
            "  mathbb mathcal frac let prove left right omega alpha\n",
            "\n"
          ],
          "name": "stdout"
        }
      ]
    },
    {
      "cell_type": "code",
      "metadata": {
        "id": "kB53sZAiKfjt",
        "colab": {
          "base_uri": "https://localhost:8080/"
        },
        "outputId": "ee80d52f-3b45-4571-ef6d-a64027c2dbf6"
      },
      "source": [
        "#Transforming the LDA topic matrix to 2 dimensions for plotting\n",
        "tsne_lda_model = TSNE(n_components=2, perplexity=50, learning_rate=100, \n",
        "                        n_iter=2000, verbose=1, random_state=0, angle=0.75)\n",
        "tsne_lda_vectors = tsne_lda_model.fit_transform(ldaTopicMatrix)"
      ],
      "execution_count": 16,
      "outputs": [
        {
          "output_type": "stream",
          "text": [
            "[t-SNE] Computing 151 nearest neighbors...\n",
            "[t-SNE] Indexed 20972 samples in 0.039s...\n",
            "[t-SNE] Computed neighbors for 20972 samples in 2.174s...\n",
            "[t-SNE] Computed conditional probabilities for sample 1000 / 20972\n",
            "[t-SNE] Computed conditional probabilities for sample 2000 / 20972\n",
            "[t-SNE] Computed conditional probabilities for sample 3000 / 20972\n",
            "[t-SNE] Computed conditional probabilities for sample 4000 / 20972\n",
            "[t-SNE] Computed conditional probabilities for sample 5000 / 20972\n",
            "[t-SNE] Computed conditional probabilities for sample 6000 / 20972\n",
            "[t-SNE] Computed conditional probabilities for sample 7000 / 20972\n",
            "[t-SNE] Computed conditional probabilities for sample 8000 / 20972\n",
            "[t-SNE] Computed conditional probabilities for sample 9000 / 20972\n",
            "[t-SNE] Computed conditional probabilities for sample 10000 / 20972\n",
            "[t-SNE] Computed conditional probabilities for sample 11000 / 20972\n",
            "[t-SNE] Computed conditional probabilities for sample 12000 / 20972\n",
            "[t-SNE] Computed conditional probabilities for sample 13000 / 20972\n",
            "[t-SNE] Computed conditional probabilities for sample 14000 / 20972\n",
            "[t-SNE] Computed conditional probabilities for sample 15000 / 20972\n",
            "[t-SNE] Computed conditional probabilities for sample 16000 / 20972\n",
            "[t-SNE] Computed conditional probabilities for sample 17000 / 20972\n",
            "[t-SNE] Computed conditional probabilities for sample 18000 / 20972\n",
            "[t-SNE] Computed conditional probabilities for sample 19000 / 20972\n",
            "[t-SNE] Computed conditional probabilities for sample 20000 / 20972\n",
            "[t-SNE] Computed conditional probabilities for sample 20972 / 20972\n",
            "[t-SNE] Mean sigma: 0.006157\n",
            "[t-SNE] KL divergence after 250 iterations with early exaggeration: 78.564011\n",
            "[t-SNE] KL divergence after 2000 iterations: 1.347858\n"
          ],
          "name": "stdout"
        }
      ]
    },
    {
      "cell_type": "code",
      "metadata": {
        "id": "9rWtf57kUWN0"
      },
      "source": [
        "# Define helper functions\n",
        "#def gatherMeanTopicVectors(keys, two_dim_vectors):\n",
        " #   '''\n",
        "  #  returns a list of centroid vectors from each predicted topic category\n",
        "   # '''\n",
        "    #averageTopicVectors = []\n",
        "    #for t in range(numberOfTopics):\n",
        "     #   articlesInTopics = []\n",
        "      #  for i in range(len(keys)):\n",
        "       #     if keys[i] == t:\n",
        "        #        articlesInTopics.append(two_dim_vectors[i])    \n",
        "        \n",
        "        #articlesInTopics = np.vstack(articlesInTopics)\n",
        "        #averageArticlesInTopics = np.mean(articlesInTopics, axis=0)\n",
        "        #averageTopicVectors.append(averageArticlesInTopics)\n",
        "    #return averageTopicVectors"
      ],
      "execution_count": 17,
      "outputs": []
    },
    {
      "cell_type": "code",
      "metadata": {
        "colab": {
          "base_uri": "https://localhost:8080/"
        },
        "id": "ED7staPCgCu7",
        "outputId": "250346a0-1aac-478f-e196-3464a95c1269"
      },
      "source": [
        "documentTopic = lda.transform(tf)\n",
        "\n",
        "for n in range(10):\n",
        "    topicMostPr = documentTopic[n].argmax()\n",
        "    print(\"Document #{} - topic: {}\\n\".format(n,topicMostPr))"
      ],
      "execution_count": 18,
      "outputs": [
        {
          "output_type": "stream",
          "text": [
            "Document #0 - topic: 1\n",
            "\n",
            "Document #1 - topic: 1\n",
            "\n",
            "Document #2 - topic: 8\n",
            "\n",
            "Document #3 - topic: 8\n",
            "\n",
            "Document #4 - topic: 1\n",
            "\n",
            "Document #5 - topic: 8\n",
            "\n",
            "Document #6 - topic: 5\n",
            "\n",
            "Document #7 - topic: 0\n",
            "\n",
            "Document #8 - topic: 7\n",
            "\n",
            "Document #9 - topic: 8\n",
            "\n"
          ],
          "name": "stdout"
        }
      ]
    },
    {
      "cell_type": "code",
      "metadata": {
        "id": "PNEASjQrjdIC"
      },
      "source": [
        "#Advanced Analysis of LDA\n",
        "#My main goal is to\n",
        "\n",
        "#1.Find the most relevant articles for each topic so they can be used as the links for further research\n",
        "#2.maybe find another way to list the most relevant articles such as using rating or views (later)\n"
      ],
      "execution_count": 19,
      "outputs": []
    },
    {
      "cell_type": "code",
      "metadata": {
        "colab": {
          "base_uri": "https://localhost:8080/",
          "height": 422
        },
        "id": "-2Sc7uZQjyTb",
        "outputId": "9103f05c-bff5-46a4-ce45-bb029bc91e68"
      },
      "source": [
        "# making a dataframe from the document-topic matrix\n",
        "documentTopic_df = pd.DataFrame(data=documentTopic)\n",
        "documentTopic_df"
      ],
      "execution_count": 20,
      "outputs": [
        {
          "output_type": "execute_result",
          "data": {
            "text/html": [
              "<div>\n",
              "<style scoped>\n",
              "    .dataframe tbody tr th:only-of-type {\n",
              "        vertical-align: middle;\n",
              "    }\n",
              "\n",
              "    .dataframe tbody tr th {\n",
              "        vertical-align: top;\n",
              "    }\n",
              "\n",
              "    .dataframe thead th {\n",
              "        text-align: right;\n",
              "    }\n",
              "</style>\n",
              "<table border=\"1\" class=\"dataframe\">\n",
              "  <thead>\n",
              "    <tr style=\"text-align: right;\">\n",
              "      <th></th>\n",
              "      <th>0</th>\n",
              "      <th>1</th>\n",
              "      <th>2</th>\n",
              "      <th>3</th>\n",
              "      <th>4</th>\n",
              "      <th>5</th>\n",
              "      <th>6</th>\n",
              "      <th>7</th>\n",
              "      <th>8</th>\n",
              "      <th>9</th>\n",
              "    </tr>\n",
              "  </thead>\n",
              "  <tbody>\n",
              "    <tr>\n",
              "      <th>0</th>\n",
              "      <td>0.026312</td>\n",
              "      <td>0.829276</td>\n",
              "      <td>0.000559</td>\n",
              "      <td>0.000559</td>\n",
              "      <td>0.000559</td>\n",
              "      <td>0.000559</td>\n",
              "      <td>0.000559</td>\n",
              "      <td>0.140500</td>\n",
              "      <td>0.000559</td>\n",
              "      <td>0.000559</td>\n",
              "    </tr>\n",
              "    <tr>\n",
              "      <th>1</th>\n",
              "      <td>0.002223</td>\n",
              "      <td>0.656920</td>\n",
              "      <td>0.002223</td>\n",
              "      <td>0.002222</td>\n",
              "      <td>0.002222</td>\n",
              "      <td>0.002223</td>\n",
              "      <td>0.002223</td>\n",
              "      <td>0.097756</td>\n",
              "      <td>0.229766</td>\n",
              "      <td>0.002222</td>\n",
              "    </tr>\n",
              "    <tr>\n",
              "      <th>2</th>\n",
              "      <td>0.001923</td>\n",
              "      <td>0.066826</td>\n",
              "      <td>0.001923</td>\n",
              "      <td>0.001923</td>\n",
              "      <td>0.001923</td>\n",
              "      <td>0.078167</td>\n",
              "      <td>0.001923</td>\n",
              "      <td>0.001923</td>\n",
              "      <td>0.841545</td>\n",
              "      <td>0.001924</td>\n",
              "    </tr>\n",
              "    <tr>\n",
              "      <th>3</th>\n",
              "      <td>0.121582</td>\n",
              "      <td>0.001588</td>\n",
              "      <td>0.001587</td>\n",
              "      <td>0.017465</td>\n",
              "      <td>0.001587</td>\n",
              "      <td>0.001587</td>\n",
              "      <td>0.125995</td>\n",
              "      <td>0.001588</td>\n",
              "      <td>0.688308</td>\n",
              "      <td>0.038713</td>\n",
              "    </tr>\n",
              "    <tr>\n",
              "      <th>4</th>\n",
              "      <td>0.035588</td>\n",
              "      <td>0.891755</td>\n",
              "      <td>0.001235</td>\n",
              "      <td>0.001235</td>\n",
              "      <td>0.001235</td>\n",
              "      <td>0.034870</td>\n",
              "      <td>0.001235</td>\n",
              "      <td>0.030378</td>\n",
              "      <td>0.001235</td>\n",
              "      <td>0.001235</td>\n",
              "    </tr>\n",
              "    <tr>\n",
              "      <th>...</th>\n",
              "      <td>...</td>\n",
              "      <td>...</td>\n",
              "      <td>...</td>\n",
              "      <td>...</td>\n",
              "      <td>...</td>\n",
              "      <td>...</td>\n",
              "      <td>...</td>\n",
              "      <td>...</td>\n",
              "      <td>...</td>\n",
              "      <td>...</td>\n",
              "    </tr>\n",
              "    <tr>\n",
              "      <th>20967</th>\n",
              "      <td>0.000855</td>\n",
              "      <td>0.701515</td>\n",
              "      <td>0.123890</td>\n",
              "      <td>0.018217</td>\n",
              "      <td>0.000855</td>\n",
              "      <td>0.000855</td>\n",
              "      <td>0.000855</td>\n",
              "      <td>0.127726</td>\n",
              "      <td>0.000855</td>\n",
              "      <td>0.024377</td>\n",
              "    </tr>\n",
              "    <tr>\n",
              "      <th>20968</th>\n",
              "      <td>0.701670</td>\n",
              "      <td>0.001220</td>\n",
              "      <td>0.141792</td>\n",
              "      <td>0.001220</td>\n",
              "      <td>0.001220</td>\n",
              "      <td>0.051966</td>\n",
              "      <td>0.001220</td>\n",
              "      <td>0.097254</td>\n",
              "      <td>0.001220</td>\n",
              "      <td>0.001220</td>\n",
              "    </tr>\n",
              "    <tr>\n",
              "      <th>20969</th>\n",
              "      <td>0.000935</td>\n",
              "      <td>0.678901</td>\n",
              "      <td>0.052701</td>\n",
              "      <td>0.000935</td>\n",
              "      <td>0.000935</td>\n",
              "      <td>0.000935</td>\n",
              "      <td>0.232152</td>\n",
              "      <td>0.000935</td>\n",
              "      <td>0.030637</td>\n",
              "      <td>0.000935</td>\n",
              "    </tr>\n",
              "    <tr>\n",
              "      <th>20970</th>\n",
              "      <td>0.000870</td>\n",
              "      <td>0.687771</td>\n",
              "      <td>0.000870</td>\n",
              "      <td>0.000870</td>\n",
              "      <td>0.009908</td>\n",
              "      <td>0.032538</td>\n",
              "      <td>0.020483</td>\n",
              "      <td>0.052867</td>\n",
              "      <td>0.078790</td>\n",
              "      <td>0.115033</td>\n",
              "    </tr>\n",
              "    <tr>\n",
              "      <th>20971</th>\n",
              "      <td>0.001334</td>\n",
              "      <td>0.666288</td>\n",
              "      <td>0.290704</td>\n",
              "      <td>0.001333</td>\n",
              "      <td>0.001334</td>\n",
              "      <td>0.033673</td>\n",
              "      <td>0.001333</td>\n",
              "      <td>0.001334</td>\n",
              "      <td>0.001334</td>\n",
              "      <td>0.001333</td>\n",
              "    </tr>\n",
              "  </tbody>\n",
              "</table>\n",
              "<p>20972 rows × 10 columns</p>\n",
              "</div>"
            ],
            "text/plain": [
              "              0         1         2  ...         7         8         9\n",
              "0      0.026312  0.829276  0.000559  ...  0.140500  0.000559  0.000559\n",
              "1      0.002223  0.656920  0.002223  ...  0.097756  0.229766  0.002222\n",
              "2      0.001923  0.066826  0.001923  ...  0.001923  0.841545  0.001924\n",
              "3      0.121582  0.001588  0.001587  ...  0.001588  0.688308  0.038713\n",
              "4      0.035588  0.891755  0.001235  ...  0.030378  0.001235  0.001235\n",
              "...         ...       ...       ...  ...       ...       ...       ...\n",
              "20967  0.000855  0.701515  0.123890  ...  0.127726  0.000855  0.024377\n",
              "20968  0.701670  0.001220  0.141792  ...  0.097254  0.001220  0.001220\n",
              "20969  0.000935  0.678901  0.052701  ...  0.000935  0.030637  0.000935\n",
              "20970  0.000870  0.687771  0.000870  ...  0.052867  0.078790  0.115033\n",
              "20971  0.001334  0.666288  0.290704  ...  0.001334  0.001334  0.001333\n",
              "\n",
              "[20972 rows x 10 columns]"
            ]
          },
          "metadata": {
            "tags": []
          },
          "execution_count": 20
        }
      ]
    },
    {
      "cell_type": "code",
      "metadata": {
        "colab": {
          "base_uri": "https://localhost:8080/"
        },
        "id": "ek5MKIhQj56K",
        "outputId": "acb1654f-fcc2-46a9-c15b-fe69b260a6a3"
      },
      "source": [
        "# printing the top 'n' articles for each topic\n",
        "for (columnName, columnData) in documentTopic_df.iteritems():\n",
        "    n = 3\n",
        "    print('Topic #', columnName)\n",
        "    sortedTopic = pd.DataFrame(data=columnData.values).sort_values(by=0, ascending=False)\n",
        "    sortedTopic.columns = [columnName]\n",
        "    print(sortedTopic[:n])\n",
        "    \n",
        "    # store IDs and titles of top articles in a dataframe\n",
        "    ids = sortedTopic[:n].index"
      ],
      "execution_count": 21,
      "outputs": [
        {
          "output_type": "stream",
          "text": [
            "Topic # 0\n",
            "             0\n",
            "12    0.989998\n",
            "4327  0.986956\n",
            "3878  0.986764\n",
            "Topic # 1\n",
            "             1\n",
            "3632  0.994193\n",
            "5488  0.994116\n",
            "5639  0.994078\n",
            "Topic # 2\n",
            "             2\n",
            "4109  0.926732\n",
            "3455  0.926431\n",
            "2630  0.904486\n",
            "Topic # 3\n",
            "             3\n",
            "1727  0.534131\n",
            "5271  0.446373\n",
            "9402  0.422292\n",
            "Topic # 4\n",
            "             4\n",
            "991   0.481067\n",
            "3745  0.432334\n",
            "2168  0.427761\n",
            "Topic # 5\n",
            "              5\n",
            "4185   0.989411\n",
            "12460  0.962927\n",
            "1356   0.962351\n",
            "Topic # 6\n",
            "             6\n",
            "7428  0.884910\n",
            "44    0.706300\n",
            "8097  0.694842\n",
            "Topic # 7\n",
            "             7\n",
            "5332  0.937455\n",
            "705   0.925720\n",
            "4807  0.917062\n",
            "Topic # 8\n",
            "             8\n",
            "4642  0.993661\n",
            "9231  0.992034\n",
            "1573  0.991508\n",
            "Topic # 9\n",
            "              9\n",
            "5603   0.983926\n",
            "18614  0.955772\n",
            "4389   0.925409\n"
          ],
          "name": "stdout"
        }
      ]
    },
    {
      "cell_type": "code",
      "metadata": {
        "colab": {
          "base_uri": "https://localhost:8080/",
          "height": 519
        },
        "id": "As8RiaTykiXL",
        "outputId": "b7e9c2a9-20d4-403a-a7c9-e51d7d3db996"
      },
      "source": [
        "#plotting the distribution of documents over each topic\n",
        "sns.set(rc={'figure.figsize':(10,5)})\n",
        "documentTopic_df.idxmax(axis=1).value_counts().plot.bar(color='lightblue')\n",
        "\n",
        "#store the distributions in a dataframe\n",
        "distribution = documentTopic_df.idxmax(axis=1).value_counts()\n",
        "distribution"
      ],
      "execution_count": 22,
      "outputs": [
        {
          "output_type": "execute_result",
          "data": {
            "text/plain": [
              "1    7580\n",
              "8    5769\n",
              "0    2234\n",
              "7    1818\n",
              "2    1740\n",
              "5    1010\n",
              "9     546\n",
              "6     229\n",
              "4      31\n",
              "3      15\n",
              "dtype: int64"
            ]
          },
          "metadata": {
            "tags": []
          },
          "execution_count": 22
        },
        {
          "output_type": "display_data",
          "data": {
            "image/png": "[encoded data removed]",
            "text/plain": [
              "<Figure size 720x360 with 1 Axes>"
            ]
          },
          "metadata": {
            "tags": []
          }
        }
      ]
    },
    {
      "cell_type": "code",
      "metadata": {
        "id": "pxrMv7O_k0WV"
      },
      "source": [
        ""
      ],
      "execution_count": 22,
      "outputs": []
    }
  ]
}